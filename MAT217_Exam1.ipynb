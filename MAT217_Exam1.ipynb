{
 "cells": [
  {
   "cell_type": "markdown",
   "metadata": {},
   "source": [
    "### Problem 1"
   ]
  },
  {
   "cell_type": "markdown",
   "metadata": {},
   "source": [
    "Only using numpy and matplotlib, write a self contained program that can find the area trapped between the following two curves \n",
    "\n",
    "$$f(x) = a_{1}x^2 + a_{2}x + a_{3}$$\n",
    "\n",
    "and\n",
    "\n",
    "$$g(x) = b_{1}x^3 + b_{2}x^2 + b_{3}x + b_{4}$$\n",
    "\n",
    "for any $a_{1},a_{2},a_{3},b_{1},b_{2},b_{3},b_{4} \\in \\mathbb{R}$"
   ]
  },
  {
   "cell_type": "code",
   "execution_count": 4,
   "metadata": {},
   "outputs": [],
   "source": [
    "import numpy as np"
   ]
  },
  {
   "cell_type": "code",
   "execution_count": 5,
   "metadata": {},
   "outputs": [],
   "source": [
    "#if we find the real roots of f_a(x) - g_b(x) we have the points of intersection\n",
    "\n",
    "#first, define f_a(x) - g_b(x)\n",
    "def fminusg(a, b, x):\n",
    "    \n",
    "    return b[0]*x**3 + (a[0]-b[1])*x**2 + (a[1]-b[2])*x + (a[2]-b[3])"
   ]
  },
  {
   "cell_type": "code",
   "execution_count": 8,
   "metadata": {},
   "outputs": [],
   "source": [
    "#lets do some root solving with a simple numerical algorithm\n",
    "\n",
    "def durandKerner_step(p, q, r, f):\n",
    "    \n",
    "    pnew = (p - f(p)) / ((p - q) * (p - r))\n",
    "    qnew = (q - f(q)) / ((q - p) * (q - r))\n",
    "    rnew = (r - f(r)) / ((r - p) * (r - q))\n",
    "    \n",
    "    return pnew, qnew, rnew\n",
    "\n",
    "def durandKerner(f, numsteps=10):\n",
    "    \n",
    "    #we want real roots, so initialize close to real values\n",
    "    p, q, r = 1+0.1j, 2+0.5j, 3+0.1j\n",
    "    \n",
    "    for step in range(numsteps):\n",
    "        p, q, r = durandKerner_step(p, q, r, f)\n",
    "        \n",
    "    return p, q, r"
   ]
  },
  {
   "cell_type": "code",
   "execution_count": 9,
   "metadata": {},
   "outputs": [
    {
     "data": {
      "text/plain": [
       "((-0.1770997067126613+0.013778154596218565j),\n",
       " (0.1560419435644975-0.012171144592916721j),\n",
       " (6.02105776314816+0.5983929899967j))"
      ]
     },
     "execution_count": 9,
     "metadata": {},
     "output_type": "execute_result"
    }
   ],
   "source": [
    "a = [1,1,1]\n",
    "b = [1,0,0,0]\n",
    "\n",
    "durandKerner(lambda x: fminusg(a,b,x))"
   ]
  },
  {
   "cell_type": "markdown",
   "metadata": {},
   "source": [
    "Okay so Durand-Kerner will not work for me here. I don't know why. It only gives me complex roots.\n",
    "\n",
    "So what I would do next is check to make sure $b_{1}$ is not zero, and run Newton's method since we're guarenteed a real root. Divide f(x) - g(x) by (x - root) and see if we can find another root or two. If the leading constant is zero, we have a quadratic, so we can find the vertex and go from there with Newton's to see if there's a root. Since it's a parabola if we have one, there's another.\n",
    "\n",
    "The space between the roots is trapped between the curves, so just some simple numerical integration from there will give you the area. "
   ]
  },
  {
   "cell_type": "markdown",
   "metadata": {},
   "source": [
    "### Problem 2"
   ]
  },
  {
   "cell_type": "markdown",
   "metadata": {},
   "source": [
    "The prime 41, can be written as the sum of six consecutive primes:\n",
    "\n",
    "$$41=2+3+5+7+11+13$$\n",
    " \n",
    "This is the longest sum of consecutive primes that adds to a prime below one-hundred.\n",
    "\n",
    "Which prime, below one-million, can be written as the sum of the most consecutive primes?"
   ]
  },
  {
   "cell_type": "code",
   "execution_count": 76,
   "metadata": {},
   "outputs": [],
   "source": [
    "import numpy as np\n",
    "def sieveOfEratosthenes(n): \n",
    "    \n",
    "    isPrime = np.ones(n)\n",
    "    \n",
    "    p = 2\n",
    "    while(p**2 <= n):\n",
    "        isPrime[np.arange(p**2,n,p)] = False\n",
    "        p+=1\n",
    "    \n",
    "    primes = []\n",
    "    for i in range(2,n):\n",
    "        if(isPrime[i]):\n",
    "            primes.append(i)\n",
    "            \n",
    "    return primes"
   ]
  },
  {
   "cell_type": "code",
   "execution_count": 77,
   "metadata": {},
   "outputs": [],
   "source": [
    "primes = sieveOfEratosthenes(1000000)"
   ]
  },
  {
   "cell_type": "code",
   "execution_count": 78,
   "metadata": {},
   "outputs": [],
   "source": [
    "import copy\n",
    "\n",
    "def longestPrimeSequence(primes, x):\n",
    "    \n",
    "    primesList = []\n",
    "    for i in range(0, len(primes)):\n",
    "        \n",
    "        summed = 0\n",
    "        sequence = []\n",
    "        for j in range(i, len(primes)):\n",
    "            \n",
    "            summed += primes[j]\n",
    "            \n",
    "            if(summed > x):\n",
    "                summed = 0\n",
    "                sequence = []\n",
    "                break\n",
    "                \n",
    "            elif(summed in primes):\n",
    "                \n",
    "                sequence.append(primes[j])\n",
    "                \n",
    "                if(len(sequence) > len(primesList)):\n",
    "                    primesList = copy.deepcopy(sequence)\n",
    "                continue\n",
    "                \n",
    "            sequence.append(primes[j])\n",
    "            \n",
    "    return primesList"
   ]
  },
  {
   "cell_type": "code",
   "execution_count": 79,
   "metadata": {},
   "outputs": [
    {
     "data": {
      "text/plain": [
       "997651"
      ]
     },
     "execution_count": 79,
     "metadata": {},
     "output_type": "execute_result"
    }
   ],
   "source": [
    "seq = longestPrimeSequence(primes, 1000000)\n",
    "\n",
    "np.sum(seq) #answer"
   ]
  },
  {
   "cell_type": "code",
   "execution_count": null,
   "metadata": {},
   "outputs": [],
   "source": []
  },
  {
   "cell_type": "markdown",
   "metadata": {},
   "source": [
    "### Problem 3"
   ]
  },
  {
   "cell_type": "markdown",
   "metadata": {},
   "source": [
    "Julie proposes the following wager to her sister Louise. She suggests they play a game of chance to determine who will wash the dishes. For this game, they shall use a generator of independent random numbers uniformly distributed between 0 and 1. The game starts with S = 0. The first player, Louise, adds to S different random numbers from the generator until S > 1 and records her last random number 'x'. The second player, Julie, continues adding to S different random numbers from the generator until S > 2 and records her last random number 'y'. The player with the highest number wins and the loser washes the dishes, i.e. if y > x the second player wins.\n",
    "\n",
    "For example, if the first player draws 0.62 and 0.44, the first player turn ends since 0.62+0.44 > 1 and x = 0.44. If the second players draws 0.1, 0.27 and 0.91, the second player turn ends since 0.62+0.44+0.1+0.27+0.91 > 2 and y = 0.91. Since y > x, the second player wins.\n",
    "\n",
    "Louise thinks about it for a second, and objects: \"That's not fair\". What is the probability that the second player wins? Give your answer rounded to 10 places.\n",
    "\n",
    "Remember that $P(E) = \\frac{N(E)}{N(S)}$\n",
    "\n",
    "that is,\n",
    "\n",
    "Probability of something happening is the number of times it happened divided by the number in the sample space."
   ]
  },
  {
   "cell_type": "code",
   "execution_count": 84,
   "metadata": {},
   "outputs": [],
   "source": [
    "import numpy as np\n",
    "\n",
    "def simulateGame(numsims = 100):\n",
    "    \n",
    "    winner = []\n",
    "    for game in range(numsims):\n",
    "        S = 0\n",
    "        \n",
    "        while(S <= 1):\n",
    "            random = np.random.uniform(0,1)\n",
    "            S += random\n",
    "        \n",
    "        x = random\n",
    "        \n",
    "        while(S <= 2):\n",
    "            random = np.random.uniform(0,1)\n",
    "            S += random\n",
    "            \n",
    "        y = random\n",
    "        \n",
    "        winner.append(x < y)\n",
    "        \n",
    "    return winner"
   ]
  },
  {
   "cell_type": "code",
   "execution_count": 87,
   "metadata": {},
   "outputs": [],
   "source": [
    "games = simulateGame(numsims=10**7)"
   ]
  },
  {
   "cell_type": "code",
   "execution_count": 88,
   "metadata": {},
   "outputs": [
    {
     "data": {
      "text/plain": [
       "0.5278096"
      ]
     },
     "execution_count": 88,
     "metadata": {},
     "output_type": "execute_result"
    }
   ],
   "source": [
    "np.mean(games) #answer"
   ]
  },
  {
   "cell_type": "code",
   "execution_count": null,
   "metadata": {},
   "outputs": [],
   "source": []
  }
 ],
 "metadata": {
  "kernelspec": {
   "display_name": "Python 3",
   "language": "python",
   "name": "python3"
  },
  "language_info": {
   "codemirror_mode": {
    "name": "ipython",
    "version": 3
   },
   "file_extension": ".py",
   "mimetype": "text/x-python",
   "name": "python",
   "nbconvert_exporter": "python",
   "pygments_lexer": "ipython3",
   "version": "3.8.3"
  }
 },
 "nbformat": 4,
 "nbformat_minor": 4
}
