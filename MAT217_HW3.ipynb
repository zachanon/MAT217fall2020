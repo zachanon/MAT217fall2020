{
 "cells": [
  {
   "cell_type": "markdown",
   "metadata": {},
   "source": [
    "### Question 1"
   ]
  },
  {
   "cell_type": "markdown",
   "metadata": {},
   "source": [
    "Design a program that takes in a function $f(x)$, calculates both the right and left Riemann sums for a user inputted number of divisions $n$ over a user inputted interval $[a,b]$. You should also produce a single graph clearly illustrating both the right and left sums."
   ]
  },
  {
   "cell_type": "code",
   "execution_count": 1,
   "metadata": {},
   "outputs": [],
   "source": [
    "def riemannSum(function, numDivisions, a, b):\n",
    "    delta = (b - a) / numDivisions\n",
    "    \n",
    "    leftSum = 0\n",
    "    for i in range(0,numDivisions):\n",
    "        leftSum += delta*function(a+delta*i)\n",
    "    \n",
    "    rightSum = 0\n",
    "    for i in range(1,numDivisions+1):\n",
    "        rightSum += delta*function(a+delta*i)\n",
    "    \n",
    "    return leftSum, rightSum"
   ]
  },
  {
   "cell_type": "code",
   "execution_count": 2,
   "metadata": {},
   "outputs": [],
   "source": [
    "def leftSum(function, numDivisions, a, b):\n",
    "    delta = (b - a) / numDivisions\n",
    "    \n",
    "    leftSum = 0\n",
    "    for i in range(0,numDivisions):\n",
    "        leftSum += delta*function(a+delta*i)\n",
    "    \n",
    "    return leftSum"
   ]
  },
  {
   "cell_type": "code",
   "execution_count": 3,
   "metadata": {},
   "outputs": [],
   "source": [
    "def rightSum(function, numDivisions, a, b):\n",
    "    delta = (b - a) / numDivisions\n",
    "    \n",
    "    rightSum = 0\n",
    "    for i in range(1,numDivisions+1):\n",
    "        rightSum += delta*function(a+delta*i)\n",
    "    \n",
    "    return rightSum"
   ]
  },
  {
   "cell_type": "code",
   "execution_count": 4,
   "metadata": {},
   "outputs": [],
   "source": [
    "import matplotlib.pyplot as plt\n",
    "\n",
    "%matplotlib inline\n",
    "%config InlineBackend.figure_format='retina'"
   ]
  },
  {
   "cell_type": "code",
   "execution_count": 5,
   "metadata": {},
   "outputs": [],
   "source": [
    "def f(x):\n",
    "    return x**2"
   ]
  },
  {
   "cell_type": "code",
   "execution_count": 6,
   "metadata": {},
   "outputs": [
    {
     "data": {
      "image/png": "[encoded data removed]",
      "text/plain": [
       "<Figure size 432x288 with 1 Axes>"
      ]
     },
     "metadata": {
      "image/png": {
       "height": 248,
       "width": 372
      },
      "needs_background": "light"
     },
     "output_type": "display_data"
    }
   ],
   "source": [
    "for c in range(1,100):\n",
    "    plt.plot(c, leftSum(f, c, 0, 1), '+', c='r')\n",
    "    plt.plot(c, rightSum(f, c, 0, 1), '.', c='b')"
   ]
  },
  {
   "cell_type": "markdown",
   "metadata": {},
   "source": [
    "### Question 2"
   ]
  },
  {
   "cell_type": "markdown",
   "metadata": {},
   "source": [
    "Design a program that takes in a user defined function $f(x,y)$ that approximates\n",
    "\n",
    "$$\\int_a^b \\! \\int_c^d f(x,y) \\,\\mathrm{d}x \\mathrm{d}y$$\n",
    "\n",
    "for user defined $a,b,c,d \\in \\mathbb{R}$"
   ]
  },
  {
   "cell_type": "code",
   "execution_count": 7,
   "metadata": {},
   "outputs": [],
   "source": [
    "def approximateDoubleIntegral(function, a, b, c, d, numDivisions=1000):\n",
    "    deltax = (d-c) / numDivisions\n",
    "    deltay = (b-a) / numDivisions\n",
    "    \n",
    "    finalSum = 0\n",
    "    for i in range(0, numDivisions):\n",
    "        for j in range(0, numDivisions):\n",
    "            finalSum += (deltax * deltay) * function(c+deltax*j, a+deltay*i)\n",
    "            \n",
    "    return finalSum"
   ]
  },
  {
   "cell_type": "code",
   "execution_count": 8,
   "metadata": {},
   "outputs": [],
   "source": [
    "def g(x, y):\n",
    "    return (y**2)*x"
   ]
  },
  {
   "cell_type": "code",
   "execution_count": 9,
   "metadata": {},
   "outputs": [],
   "source": [
    "approx = approximateDoubleIntegral(g, 0, 1, 0, 1, numDivisions=1000)"
   ]
  },
  {
   "cell_type": "code",
   "execution_count": 10,
   "metadata": {},
   "outputs": [
    {
     "data": {
      "text/plain": [
       "0.16625033324999847"
      ]
     },
     "execution_count": 10,
     "metadata": {},
     "output_type": "execute_result"
    }
   ],
   "source": [
    "approx"
   ]
  }
 ],
 "metadata": {
  "kernelspec": {
   "display_name": "Python 3",
   "language": "python",
   "name": "python3"
  },
  "language_info": {
   "codemirror_mode": {
    "name": "ipython",
    "version": 3
   },
   "file_extension": ".py",
   "mimetype": "text/x-python",
   "name": "python",
   "nbconvert_exporter": "python",
   "pygments_lexer": "ipython3",
   "version": "3.8.3"
  }
 },
 "nbformat": 4,
 "nbformat_minor": 4
}
