{
 "cells": [
  {
   "cell_type": "markdown",
   "metadata": {},
   "source": [
    "## Question 1"
   ]
  },
  {
   "cell_type": "markdown",
   "metadata": {},
   "source": [
    "Create a program that enters two whole numbers and then prints out the next 30 numbers of that Fibbonacci Sequence with those two intital numbers\n"
   ]
  },
  {
   "cell_type": "code",
   "execution_count": 1,
   "metadata": {},
   "outputs": [],
   "source": [
    "def fib(a, b):\n",
    "    print(a)\n",
    "    print(b)\n",
    "    for i in range(0,30):\n",
    "        key = a\n",
    "        a = b\n",
    "        b = key + b\n",
    "        print(b)"
   ]
  },
  {
   "cell_type": "code",
   "execution_count": 2,
   "metadata": {},
   "outputs": [
    {
     "name": "stdout",
     "output_type": "stream",
     "text": [
      "0\n",
      "1\n",
      "1\n",
      "2\n",
      "3\n",
      "5\n",
      "8\n",
      "13\n",
      "21\n",
      "34\n",
      "55\n",
      "89\n",
      "144\n",
      "233\n",
      "377\n",
      "610\n",
      "987\n",
      "1597\n",
      "2584\n",
      "4181\n",
      "6765\n",
      "10946\n",
      "17711\n",
      "28657\n",
      "46368\n",
      "75025\n",
      "121393\n",
      "196418\n",
      "317811\n",
      "514229\n",
      "832040\n",
      "1346269\n"
     ]
    }
   ],
   "source": [
    "fib(0,1)"
   ]
  },
  {
   "cell_type": "markdown",
   "metadata": {},
   "source": [
    "## Question 2"
   ]
  },
  {
   "cell_type": "markdown",
   "metadata": {},
   "source": [
    "Create a program that accepts the following input concerning the mortgage of a house\n",
    "\n",
    "* House price\n",
    "* Mortgage rate\n",
    "* Mortgage term length\n",
    "\n",
    "From this determine the monthly mortage payment along with the total interest paid to the Bank. Graph the total amount paid and the total unpaid balance"
   ]
  },
  {
   "cell_type": "markdown",
   "metadata": {},
   "source": [
    "(Assuming rate is annual and term length is given in months)"
   ]
  },
  {
   "cell_type": "code",
   "execution_count": 3,
   "metadata": {},
   "outputs": [],
   "source": [
    "import numpy as np\n",
    "import matplotlib.pyplot as plt"
   ]
  },
  {
   "cell_type": "code",
   "execution_count": 4,
   "metadata": {},
   "outputs": [],
   "source": [
    "def payment(principal, rate, months):\n",
    "    rm = rate / 12\n",
    "    \n",
    "    payment = principal * ((rm) / (1 - (1+rm)**(-months)))\n",
    "    \n",
    "    return payment"
   ]
  },
  {
   "cell_type": "code",
   "execution_count": 5,
   "metadata": {},
   "outputs": [],
   "source": [
    "def makePayments(principal, rate, months, numPayments):\n",
    "    \n",
    "    balance = np.zeros(numPayments+1)\n",
    "    monthlyInterest = np.zeros(numPayments+1)\n",
    "    balance[0] = principal\n",
    "    \n",
    "    for month in range(0, numPayments):\n",
    "        interest = balance[month] * rate / 12\n",
    "        monthlyInterest[month+1] = interest\n",
    "\n",
    "        R = payment(principal, rate, months)\n",
    "        \n",
    "        balance[month+1] = balance[month] - R + interest\n",
    "        \n",
    "    \n",
    "    #fix numerical underflow\n",
    "    #balance[numPayments+1] = 0\n",
    "    return balance, monthlyInterest"
   ]
  },
  {
   "cell_type": "code",
   "execution_count": 6,
   "metadata": {},
   "outputs": [],
   "source": [
    "principal = 10000\n",
    "rate = .4\n",
    "months = 100\n",
    "\n",
    "balance, _ = makePayments(principal, rate, months, months)\n",
    "\n",
    "paid = np.arange(0, months+1) * payment(principal, rate, months)\n",
    "totalInterest = paid[-1] - principal"
   ]
  },
  {
   "cell_type": "code",
   "execution_count": 7,
   "metadata": {},
   "outputs": [
    {
     "data": {
      "text/plain": [
       "24638.029125109242"
      ]
     },
     "execution_count": 7,
     "metadata": {},
     "output_type": "execute_result"
    }
   ],
   "source": [
    "totalInterest"
   ]
  },
  {
   "cell_type": "code",
   "execution_count": 8,
   "metadata": {},
   "outputs": [
    {
     "data": {
      "text/plain": [
       "Text(0, 0.5, 'Amount in Dollars')"
      ]
     },
     "execution_count": 8,
     "metadata": {},
     "output_type": "execute_result"
    },
    {
     "data": {
      "image/png": "[encoded data removed]",
      "text/plain": [
       "<Figure size 432x288 with 1 Axes>"
      ]
     },
     "metadata": {
      "needs_background": "light"
     },
     "output_type": "display_data"
    }
   ],
   "source": [
    "plt.plot(np.arange(0, months+1), balance)\n",
    "plt.plot(np.arange(0, months+1), paid, c='red')\n",
    "plt.xlabel(\"Number of payments made\",)\n",
    "plt.ylabel(\"Amount in Dollars\")"
   ]
  },
  {
   "cell_type": "markdown",
   "metadata": {},
   "source": [
    "### Notes on linearity\n",
    "\n",
    "The monthly payments are static and determined at the start of the loan, so the total amount paid should be linear. The balance itself is determined dynamically as payments are made, and so shows the decaying exponential curve."
   ]
  },
  {
   "cell_type": "markdown",
   "metadata": {},
   "source": [
    "## Question 3"
   ]
  },
  {
   "cell_type": "markdown",
   "metadata": {},
   "source": [
    "Create a program that accepts the following input concerning the mortgage of a house\n",
    "\n",
    "* Mortgage Payment\n",
    "* Mortgage rate\n",
    "* Mortgage term length\n",
    "\n",
    "From this determine the Value of the house along with the total interest paid to the Bank.\n",
    "\n",
    "(assuming period of one month and rate as a yearly percentage)"
   ]
  },
  {
   "cell_type": "code",
   "execution_count": 9,
   "metadata": {},
   "outputs": [],
   "source": [
    "def value(payment, rate, numMonths):\n",
    "    \n",
    "    principal = payment * ((1- ((1+rate/12)**(-numMonths)))/(rate/12))\n",
    "    return principal"
   ]
  },
  {
   "cell_type": "code",
   "execution_count": 10,
   "metadata": {},
   "outputs": [],
   "source": [
    "def interestPaid(payment, rate, numMonths):\n",
    "    \n",
    "    principal = value(payment, rate, numMonths)\n",
    "    _, monthlyInterest = makePayments(principal, rate, numMonths, numMonths)\n",
    "    \n",
    "    return np.sum(monthlyInterest)"
   ]
  },
  {
   "cell_type": "code",
   "execution_count": 11,
   "metadata": {},
   "outputs": [],
   "source": [
    "principal = 100000\n",
    "rate = .4\n",
    "months = 120\n",
    "numPayments = 120\n",
    "\n",
    "R = payment(principal, rate, months)"
   ]
  },
  {
   "cell_type": "code",
   "execution_count": 12,
   "metadata": {},
   "outputs": [],
   "source": [
    "testPrincipal = value(R,rate, numPayments)\n",
    "testInterest = interestPaid(R, rate, numPayments)"
   ]
  },
  {
   "cell_type": "code",
   "execution_count": 13,
   "metadata": {},
   "outputs": [
    {
     "data": {
      "text/plain": [
       "True"
      ]
     },
     "execution_count": 13,
     "metadata": {},
     "output_type": "execute_result"
    }
   ],
   "source": [
    "principal ==testPrincipal"
   ]
  },
  {
   "cell_type": "code",
   "execution_count": 14,
   "metadata": {},
   "outputs": [
    {
     "data": {
      "text/plain": [
       "False"
      ]
     },
     "execution_count": 14,
     "metadata": {},
     "output_type": "execute_result"
    }
   ],
   "source": [
    "totalInterest == testInterest"
   ]
  },
  {
   "cell_type": "code",
   "execution_count": 15,
   "metadata": {},
   "outputs": [
    {
     "data": {
      "text/plain": [
       "24638.029125109242"
      ]
     },
     "execution_count": 15,
     "metadata": {},
     "output_type": "execute_result"
    }
   ],
   "source": [
    "totalInterest"
   ]
  },
  {
   "cell_type": "code",
   "execution_count": 16,
   "metadata": {},
   "outputs": [
    {
     "data": {
      "text/plain": [
       "307975.9396197227"
      ]
     },
     "execution_count": 16,
     "metadata": {},
     "output_type": "execute_result"
    }
   ],
   "source": [
    "testInterest"
   ]
  },
  {
   "cell_type": "code",
   "execution_count": null,
   "metadata": {},
   "outputs": [],
   "source": []
  }
 ],
 "metadata": {
  "kernelspec": {
   "display_name": "Python 3",
   "language": "python",
   "name": "python3"
  },
  "language_info": {
   "codemirror_mode": {
    "name": "ipython",
    "version": 3
   },
   "file_extension": ".py",
   "mimetype": "text/x-python",
   "name": "python",
   "nbconvert_exporter": "python",
   "pygments_lexer": "ipython3",
   "version": "3.8.3"
  }
 },
 "nbformat": 4,
 "nbformat_minor": 4
}
