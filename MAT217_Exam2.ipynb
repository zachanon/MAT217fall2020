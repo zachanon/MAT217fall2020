{
  "nbformat": 4,
  "nbformat_minor": 0,
  "metadata": {
    "colab": {
      "name": "MAT217_Exam2.ipynb",
      "provenance": [],
      "collapsed_sections": []
    },
    "kernelspec": {
      "name": "python3",
      "display_name": "Python 3"
    }
  },
  "cells": [
    {
      "cell_type": "markdown",
      "metadata": {
        "id": "ehoE3xErdRVr"
      },
      "source": [
        "## Problem 1\n",
        "\n",
        "Use the following \"encoding\" program to develop a decoding program and decode the following message:"
      ]
    },
    {
      "cell_type": "code",
      "metadata": {
        "id": "OOA5OZZTdZG7"
      },
      "source": [
        "Message = \"r³cË\\x96Ç)pº\\xa0Òr}gÀ£}\\x8d²²f§¨É\\x85\\x9cÆ)tÌ\\x8cÔs£\\x8e'\\x82¸m\\x96Ä\\x9fÄ\\x84ZÔ~RÈu\\x8a´q\\x9d\\x7f\\x80\\xadÏ~j»®Àªº\\x95Ö&lµ»ªÍ?[Ä\\x86±¾{¶µº¹]§\\x8d¼Â\\xad¹\\x94\\x8e(\\x85¾²Ð\\x91¹UÆw\\x88³¶Ë\\x96Å)vÊ\\x8bÎ\\x80§Ër\\x81»Êh\\x7f\\x84±Ë\\x94¼\\x9aÇ)\\x87Æ\\x9d\\x81\\x81\\x95Æ*\\x85È\\x94Ë\\x86´r\\x9eÅu\\x97Ði|sr«Ñ\\x82©Î\\x88£}\\x8e´\\xado©½\\x97Ä\\x84\\x9aÌ.\\x88Çs~ªÀ¨\\x83MÂx\\x87y\\x99Á\\x7fÄ´½IÓ{¢~Y±¹¨Õq\\x8a·²|\\x8c¶^©\\x83¯¬Ä¯Ø2¯Î3«Ô\\x86±Â\\x87ÃªÇUÃv\\x80o±Í\\x9c\\x80a¥Õ}\\x85È\\x98Ö\\x81Hp£Ë>Á¬Är\\xa0Ï*\\x84Ç\\x89|\\x81Ã³¼\\x81À\\x9eÕo;Â¬¿£\\x82J\\x89º»Ä©Ï\\x95É\\x9bÑt7\\xadÁ\\xad\\x7f\\x86£Ä2\\x8eÎw£Çl=¤±¿\\x8bªÇUÑm;\\x8e³¸ªÊn\\x88\\x8c7\\x9cÂ¬Æ,xÏ\\x85\\x96Ïh}ºprÎ\\x81\""
      ],
      "execution_count": null,
      "outputs": []
    },
    {
      "cell_type": "code",
      "metadata": {
        "id": "R_dSUY-WcYdD"
      },
      "source": [
        "import numpy as np\n",
        "\n",
        "def Encode_msg(string,initial_point,start_sequence,parameter):\n",
        "    def log_func(x,r):\n",
        "        return r*x*(1-x)\n",
        "    \n",
        "    R = 3.9+parameter/100000\n",
        "    \n",
        "    r0=R\n",
        "\n",
        "    X_0=initial_point/10000 \n",
        "    Steps=start_sequence+2*len(string)\n",
        "\n",
        "    X_old=X_0\n",
        "\n",
        "\n",
        "    Points=[]\n",
        "\n",
        "\n",
        "    for t in range(0,Steps):\n",
        "        Points.append(X_old) \n",
        "        X_new=log_func(X_old,r0)\n",
        "        X_old=X_new\n",
        "    \n",
        "    Points=np.array(Points)*100\n",
        "    Points = Points.round(0)\n",
        "    Msg=[]\n",
        "    for c in string:\n",
        "        Msg.append(ord(c))\n",
        "    \n",
        "    \n",
        "    Coded_Msg = Msg + Points[start_sequence:start_sequence+len(Msg)]\n",
        "    \n",
        "    Coded_Msg_string=''\n",
        "    for x in Coded_Msg:\n",
        "        Coded_Msg_string += chr(int(round(x,1)))\n",
        "    \n",
        "    return Coded_Msg_string"
      ],
      "execution_count": null,
      "outputs": []
    },
    {
      "cell_type": "markdown",
      "metadata": {
        "id": "uWuGAsQGde-K"
      },
      "source": [
        "Use the game scores of the Chiefs first 3 games as \"keys\", ie \"initial_point,start_sequence,parameter\""
      ]
    },
    {
      "cell_type": "code",
      "metadata": {
        "id": "ZJW682gbdgy6"
      },
      "source": [
        "initial_point = 3420\n",
        "start_sequence = 2320\n",
        "parameter = 3420"
      ],
      "execution_count": null,
      "outputs": []
    },
    {
      "cell_type": "code",
      "metadata": {
        "id": "yAVb__kKZ2Db"
      },
      "source": [
        "def decode(string, initial_point, start_sequence, parameter):\n",
        "  def log_func(x,r):\n",
        "        return r*x*(1-x)\n",
        "        \n",
        "  R = 3.9+parameter/100000\n",
        "    \n",
        "  r0=R\n",
        "\n",
        "  X_0=initial_point/10000 \n",
        "  Steps=start_sequence+2*len(string)\n",
        "\n",
        "  X_old=X_0\n",
        "\n",
        "\n",
        "  Points=[]\n",
        "\n",
        "\n",
        "  for t in range(0,Steps):\n",
        "      Points.append(X_old) \n",
        "      X_new=log_func(X_old,r0)\n",
        "      X_old=X_new\n",
        "\n",
        "  Points=np.array(Points)*100\n",
        "  Points = Points.round(0)\n",
        "\n",
        "  Msg=[]\n",
        "  for c in string:\n",
        "    Msg.append(ord(c))\n",
        "\n",
        "  decoded = Msg - Points[start_sequence:start_sequence+len(Msg)]\n",
        "\n",
        "  decoded_string = ''\n",
        "  for x in decoded:\n",
        "    decoded_string += chr(int(round(x,1)))\n",
        "\n",
        "  return decoded_string"
      ],
      "execution_count": null,
      "outputs": []
    },
    {
      "cell_type": "code",
      "metadata": {
        "id": "mkyakx-ubkAw"
      },
      "source": [
        "#enter anything in here\n",
        "testingmessage = \"This is a testing string, you can put any character in here\""
      ],
      "execution_count": null,
      "outputs": []
    },
    {
      "cell_type": "code",
      "metadata": {
        "id": "hrFJ6fWKcxqh",
        "outputId": "e7a12fc6-ee64-4c99-a294-caf303fa3aac",
        "colab": {
          "base_uri": "https://localhost:8080/",
          "height": 35
        }
      },
      "source": [
        "encoded = Encode_msg(testingmessage, initial_point, start_sequence, parameter)\n",
        "encoded"
      ],
      "execution_count": null,
      "outputs": [
        {
          "output_type": "execute_result",
          "data": {
            "application/vnd.google.colaboratory.intrinsic+json": {
              "type": "string"
            },
            "text/plain": [
              "'o¶¬ÊNË|@¶QÖk\\x8b»º«Ä9½Á¸»¨Ç=WÛx\\x96x\\x8eÁ|PÒ|\\x8dj®µË[Âz\\x9bÒp\\x95Ök\\x8agºª\\x7f{£Ï~'"
            ]
          },
          "metadata": {
            "tags": []
          },
          "execution_count": 6
        }
      ]
    },
    {
      "cell_type": "code",
      "metadata": {
        "id": "ZiwG_ySod9zp",
        "outputId": "94011f8d-a9bc-4db5-be91-601ca560a64b",
        "colab": {
          "base_uri": "https://localhost:8080/",
          "height": 52
        }
      },
      "source": [
        "decoded = decode(encoded, initial_point, start_sequence, parameter)\n",
        "print(decoded == testingmessage)\n",
        "decoded"
      ],
      "execution_count": null,
      "outputs": [
        {
          "output_type": "stream",
          "text": [
            "True\n"
          ],
          "name": "stdout"
        },
        {
          "output_type": "execute_result",
          "data": {
            "application/vnd.google.colaboratory.intrinsic+json": {
              "type": "string"
            },
            "text/plain": [
              "'This is a testing string, you can put any character in here'"
            ]
          },
          "metadata": {
            "tags": []
          },
          "execution_count": 7
        }
      ]
    },
    {
      "cell_type": "markdown",
      "metadata": {
        "id": "DvSNd9OneTUc"
      },
      "source": [
        "~~I copy+pasted the message and encoding function from the test html.~~\n",
        "\n",
        "~~I inverted the function, and it works for any string I put in, however it fails when I use the given message, because the decoded input goes into the negatives.~~\n",
        "\n",
        "~~My best guess is that my 'keys' are wrong.~~\n",
        "\n",
        "**It works now!**"
      ]
    },
    {
      "cell_type": "code",
      "metadata": {
        "id": "tX3G4tPFe0Pn",
        "outputId": "465a93a6-abcc-4af2-df15-89fea53c16ac",
        "colab": {
          "base_uri": "https://localhost:8080/",
          "height": 54
        }
      },
      "source": [
        "try:\n",
        "  print(decode(Message, initial_point, start_sequence, parameter))\n",
        "  \n",
        "except:\n",
        "  print(\"Failed\")"
      ],
      "execution_count": null,
      "outputs": [
        {
          "output_type": "stream",
          "text": [
            "We the People of the United States, in Order to form a more perfect Union, establish Justice, insure domestic Tranquility, provide for the common defence, promote the general Welfare, and secure the Blessings of Liberty to ourselves and our Posterity, do ordain and establish this Constitution for the United States of America. Vote November 3rd\n"
          ],
          "name": "stdout"
        }
      ]
    },
    {
      "cell_type": "code",
      "metadata": {
        "id": "WU9gjrPtPkQD"
      },
      "source": [
        ""
      ],
      "execution_count": null,
      "outputs": []
    },
    {
      "cell_type": "code",
      "metadata": {
        "id": "1dA6xDOA2DvA"
      },
      "source": [
        "def decodeTest(string, initial_point, start_sequence, parameter):\n",
        "  def log_func(x,r):\n",
        "        return r*x*(1-x)\n",
        "        \n",
        "  R = 3.9+parameter/100000\n",
        "    \n",
        "  r0=R\n",
        "\n",
        "  X_0=initial_point/10000 \n",
        "  Steps=start_sequence+2*len(string)\n",
        "\n",
        "  X_old=X_0\n",
        "\n",
        "\n",
        "  Points=[]\n",
        "\n",
        "\n",
        "  for t in range(0,Steps):\n",
        "      Points.append(X_old) \n",
        "      X_new=log_func(X_old,r0)\n",
        "      X_old=X_new\n",
        "\n",
        "  Points=np.array(Points)*100\n",
        "  Points = Points.round(0)\n",
        "\n",
        "  Msg=[]\n",
        "  for c in string:\n",
        "    Msg.append(ord(c))\n",
        "\n",
        "  decoded = Msg - Points[start_sequence:start_sequence+len(Msg)]\n",
        "\n",
        "  return decoded"
      ],
      "execution_count": null,
      "outputs": []
    },
    {
      "cell_type": "code",
      "metadata": {
        "id": "wPs0oYJW1slA"
      },
      "source": [
        "teststrings = []\n",
        "for i in range(0,64):\n",
        "  for seq in range(0,64):\n",
        "    for p in range(0,64):\n",
        "      decoded = decodeTest(Message, i, seq, p)\n",
        "      if(np.any(decoded < 0)):\n",
        "        continue\n",
        "      else:\n",
        "        teststrings.append([i, seq, p])"
      ],
      "execution_count": null,
      "outputs": []
    },
    {
      "cell_type": "code",
      "metadata": {
        "id": "99oY4JtU1uIA",
        "outputId": "b1188fd3-7b7e-41da-b450-ce92f4647f73",
        "colab": {
          "base_uri": "https://localhost:8080/",
          "height": 34
        }
      },
      "source": [
        "len(teststrings) == 64*64"
      ],
      "execution_count": null,
      "outputs": [
        {
          "output_type": "execute_result",
          "data": {
            "text/plain": [
              "True"
            ]
          },
          "metadata": {
            "tags": []
          },
          "execution_count": 11
        }
      ]
    },
    {
      "cell_type": "code",
      "metadata": {
        "id": "jRO1OZWr9UU4"
      },
      "source": [
        "teststrings = []\n",
        "for i in range(0, 1000):\n",
        "  decoded = decodeTest(Message, i, start_sequence, parameter)\n",
        "  if(np.any(decoded < 0)):\n",
        "    continue\n",
        "  else:\n",
        "    teststrings.append(i)"
      ],
      "execution_count": null,
      "outputs": []
    },
    {
      "cell_type": "code",
      "metadata": {
        "id": "nMwEEQ_N-BPB",
        "outputId": "e8b26582-17ff-457e-bd02-d0c27ea47a71",
        "colab": {
          "base_uri": "https://localhost:8080/",
          "height": 34
        }
      },
      "source": [
        "teststrings"
      ],
      "execution_count": null,
      "outputs": [
        {
          "output_type": "execute_result",
          "data": {
            "text/plain": [
              "[0]"
            ]
          },
          "metadata": {
            "tags": []
          },
          "execution_count": 13
        }
      ]
    },
    {
      "cell_type": "markdown",
      "metadata": {
        "id": "7JJQNXee5ngs"
      },
      "source": [
        "For some reason, any $initialpoint >0$ returns an array with negative values. Lets see what the $Points$ look like with this in mind."
      ]
    },
    {
      "cell_type": "code",
      "metadata": {
        "id": "r7ATm4Za5-Us"
      },
      "source": [
        "def log_func(x,r):\n",
        "      return r*x*(1-x)\n",
        "      \n",
        "R = 3.9+parameter/100000\n",
        "  \n",
        "r0=R\n",
        "\n",
        "X_0=0/10000 \n",
        "Steps=start_sequence+2*len(Message)\n",
        "\n",
        "X_old=X_0\n",
        "\n",
        "\n",
        "Points=[]\n",
        "\n",
        "\n",
        "for t in range(0,Steps):\n",
        "    Points.append(X_old) \n",
        "    X_new=log_func(X_old,r0)\n",
        "    X_old=X_new\n",
        "\n",
        "Points=np.array(Points)*100\n",
        "Points = Points.round(0)"
      ],
      "execution_count": null,
      "outputs": []
    },
    {
      "cell_type": "code",
      "metadata": {
        "id": "TeK1nYcQ6odN",
        "outputId": "e5952a87-7938-4faf-8ab4-8cc082c14f76",
        "colab": {
          "base_uri": "https://localhost:8080/",
          "height": 34
        }
      },
      "source": [
        "Points"
      ],
      "execution_count": null,
      "outputs": [
        {
          "output_type": "execute_result",
          "data": {
            "text/plain": [
              "array([0., 0., 0., ..., 0., 0., 0.])"
            ]
          },
          "metadata": {
            "tags": []
          },
          "execution_count": 15
        }
      ]
    },
    {
      "cell_type": "markdown",
      "metadata": {
        "id": "4-dzTsjZ63MG"
      },
      "source": [
        "Of course, since our initial start we use to calculate the next steps is $0$, we never go anywhere.\n",
        "\n",
        "Next, lets try omitting the negative values and see if we can get anything legible."
      ]
    },
    {
      "cell_type": "code",
      "metadata": {
        "id": "YnRn2T_s7kCa"
      },
      "source": [
        "decoded = decodeTest(Message, initial_point, start_sequence, parameter)\n",
        "decoded = decoded*(decoded > 0)\n",
        "\n",
        "decoded_string = ''\n",
        "for x in decoded:\n",
        "  decoded_string += chr(int(round(x,1)))"
      ],
      "execution_count": null,
      "outputs": []
    },
    {
      "cell_type": "code",
      "metadata": {
        "id": "v_coOZgy791z",
        "outputId": "31cf9b8d-17a9-4b54-f277-ce17827e7ad3",
        "colab": {
          "base_uri": "https://localhost:8080/",
          "height": 69
        }
      },
      "source": [
        "decoded_string"
      ],
      "execution_count": null,
      "outputs": [
        {
          "output_type": "execute_result",
          "data": {
            "application/vnd.google.colaboratory.intrinsic+json": {
              "type": "string"
            },
            "text/plain": [
              "'We the People of the United States, in Order to form a more perfect Union, establish Justice, insure domestic Tranquility, provide for the common defence, promote the general Welfare, and secure the Blessings of Liberty to ourselves and our Posterity, do ordain and establish this Constitution for the United States of America. Vote November 3rd'"
            ]
          },
          "metadata": {
            "tags": []
          },
          "execution_count": 17
        }
      ]
    },
    {
      "cell_type": "markdown",
      "metadata": {
        "id": "nX-oRBgB8cat"
      },
      "source": [
        "So, encoding using the given function is invertible for any string I put in. However the given message string, using any $0 < initialpoint < 64$ value, returns arrays with negative integers which cannot be converted to characters. Omitting the invalid members just gives me gibberish.\n",
        "\n",
        "Did I just implement my own testing wrong? Lets see what values I can use for my own message."
      ]
    },
    {
      "cell_type": "code",
      "metadata": {
        "id": "r7nXR5Sz-hox"
      },
      "source": [
        "encoded = Encode_msg(testingmessage, initial_point, start_sequence, parameter)\n",
        "\n",
        "teststrings = []\n",
        "for i in range(0,30):\n",
        "  for seq in range(0,30):\n",
        "    for p in range(0,30):\n",
        "      encoded = Encode_msg(testingmessage, i, seq, p)\n",
        "      decoded = decodeTest(encoded, i, seq, p)\n",
        "      if(np.any(decoded < 0)):\n",
        "        continue\n",
        "      else:\n",
        "        teststrings.append([i, seq, p])"
      ],
      "execution_count": null,
      "outputs": []
    },
    {
      "cell_type": "code",
      "metadata": {
        "id": "iL2MjV7Q_XKY",
        "outputId": "fda8b7a3-6a82-4385-eab1-170f00db8d07",
        "colab": {
          "base_uri": "https://localhost:8080/",
          "height": 34
        }
      },
      "source": [
        "len(teststrings)"
      ],
      "execution_count": null,
      "outputs": [
        {
          "output_type": "execute_result",
          "data": {
            "text/plain": [
              "27000"
            ]
          },
          "metadata": {
            "tags": []
          },
          "execution_count": 19
        }
      ]
    },
    {
      "cell_type": "markdown",
      "metadata": {
        "id": "C69sbatMAdB8"
      },
      "source": [
        "Using the given encoding function works for ALL values at least up to 30.\n",
        "\n",
        "Most football games don't go above 40pts a team. $40^{3} = 64000$ thats big, but not so big you can't scan your eyes down and see if you can spot a winning keyset. "
      ]
    },
    {
      "cell_type": "code",
      "metadata": {
        "id": "uTaijWpI_bfp"
      },
      "source": [
        "strings = []\n",
        "\n",
        "for i in range(0,40):\n",
        "  for seq in range(0,40):\n",
        "    for p in range(0,40):\n",
        "      decoded = decodeTest(Message[0:20], i, seq, p)\n",
        "      decoded = decoded*(decoded > 0)\n",
        "\n",
        "      decoded_string = ''\n",
        "      for x in decoded:\n",
        "        decoded_string += chr(int(round(x,1)))\n",
        "\n",
        "      strings.append((decoded_string, [i,seq,p]))"
      ],
      "execution_count": null,
      "outputs": []
    },
    {
      "cell_type": "code",
      "metadata": {
        "id": "1lD9bxRUAX87"
      },
      "source": [
        "#for string, vals in strings:\n",
        "#  print(string)\n",
        "#  print(vals)"
      ],
      "execution_count": null,
      "outputs": []
    },
    {
      "cell_type": "markdown",
      "metadata": {
        "id": "XTMPpfLEF9oh"
      },
      "source": [
        "Well, I never saw anything legible. I don't know why I cannot get a decoded message that is not gibberish. I give up here. I would have just asked but after looking over the encoding function I decided I didn't need advice, and foolishly waited until past the time you took questions to actually implement anything."
      ]
    },
    {
      "cell_type": "code",
      "metadata": {
        "id": "t3NmUgJEGbns"
      },
      "source": [
        ""
      ],
      "execution_count": null,
      "outputs": []
    }
  ]
}