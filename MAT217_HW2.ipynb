{
 "cells": [
  {
   "cell_type": "markdown",
   "metadata": {},
   "source": [
    "# Question 1"
   ]
  },
  {
   "cell_type": "markdown",
   "metadata": {},
   "source": [
    "Using only the code shown in class, develop a program that will obtain the $\\sqrt[n]{\\alpha}$ for any n and any positive real $\\alpha$"
   ]
  },
  {
   "cell_type": "code",
   "execution_count": 1,
   "metadata": {},
   "outputs": [],
   "source": [
    "def rootFind(alpha, n, iters=100):\n",
    "    low = 0\n",
    "    high = alpha\n",
    "    root = alpha /2\n",
    "    \n",
    "    while(root**n != alpha and iters > 0):\n",
    "        if(root**n > alpha):\n",
    "            high = root\n",
    "            \n",
    "        elif(root**n < alpha):\n",
    "            low = root\n",
    "            \n",
    "        root = (high - low) /2 + low\n",
    "        iters-=1\n",
    "        \n",
    "    return root"
   ]
  },
  {
   "cell_type": "code",
   "execution_count": 2,
   "metadata": {},
   "outputs": [
    {
     "data": {
      "text/plain": [
       "2.0"
      ]
     },
     "execution_count": 2,
     "metadata": {},
     "output_type": "execute_result"
    }
   ],
   "source": [
    "rootFind(256, 8)"
   ]
  },
  {
   "cell_type": "code",
   "execution_count": 3,
   "metadata": {},
   "outputs": [
    {
     "data": {
      "text/plain": [
       "155.99999999999991"
      ]
     },
     "execution_count": 3,
     "metadata": {},
     "output_type": "execute_result"
    }
   ],
   "source": [
    "rootFind(156, 6, iters=10000000)**6"
   ]
  },
  {
   "cell_type": "markdown",
   "metadata": {},
   "source": [
    "# Question 2"
   ]
  },
  {
   "cell_type": "markdown",
   "metadata": {},
   "source": [
    "Only using the code shown in class, input a user defined polynomial, of order less than 6 degree, and write a program to find its points of inflection.\n",
    "\n",
    "(Note: not tested for polynomials with imaginary roots.)"
   ]
  },
  {
   "cell_type": "code",
   "execution_count": 4,
   "metadata": {},
   "outputs": [],
   "source": [
    "import sympy as sym"
   ]
  },
  {
   "cell_type": "code",
   "execution_count": 14,
   "metadata": {},
   "outputs": [],
   "source": [
    "def inflectionPoints(poly):\n",
    "    ddpoly = sym.diff(sym.diff(poly))\n",
    "    ddfunc = sym.lambdify(sym.symbols('x'), ddpoly)\n",
    "    roots = list(sym.roots(ddpoly))\n",
    "    list.sort(roots)\n",
    "\n",
    "    \n",
    "    intervals = [[roots[0]-1, roots[0]]]\n",
    "    \n",
    "    for i in range(0, len(roots)-1):\n",
    "        intervals.append([roots[i], roots[i+1]])\n",
    "        \n",
    "    intervals.append([roots[-1], roots[-1]+1])\n",
    "    \n",
    "    \n",
    "    concavity = []\n",
    "    for interval in intervals:\n",
    "        testpoint = ddfunc(interval[0] + interval[1] / 2)\n",
    "        concavity.append(testpoint > 0)\n",
    "    \n",
    "    inflectionpoints = []\n",
    "    currentConcavity = concavity[0]\n",
    "    for i in range(1,len(concavity)):\n",
    "        if currentConcavity != concavity[i]:\n",
    "            inflectionpoints.append(roots[i-1])\n",
    "            \n",
    "        currentConcavity = concavity[i]\n",
    "    \n",
    "    polyfunc = sym.lambdify(sym.symbols('x'), poly)\n",
    "    points = []\n",
    "    for i in range(0, len(inflectionpoints)):\n",
    "        points.append([inflectionpoints[i], polyfunc(inflectionpoints[i])])\n",
    "    \n",
    "    return points"
   ]
  },
  {
   "cell_type": "code",
   "execution_count": 15,
   "metadata": {},
   "outputs": [],
   "source": [
    "x = sym.symbols('x')\n",
    "polynomial = (1/30)*x**6 - (1/20)*x**5 - x**4 + 3*x + 20"
   ]
  },
  {
   "cell_type": "code",
   "execution_count": 16,
   "metadata": {},
   "outputs": [
    {
     "data": {
      "text/plain": [
       "[[-3.00000000000000, -33.5500000000000], [4.00000000000000, -138.666666666667]]"
      ]
     },
     "execution_count": 16,
     "metadata": {},
     "output_type": "execute_result"
    }
   ],
   "source": [
    "inflectionPoints = inflectionPoints(polynomial)\n",
    "inflectionPoints"
   ]
  },
  {
   "cell_type": "code",
   "execution_count": null,
   "metadata": {},
   "outputs": [],
   "source": []
  }
 ],
 "metadata": {
  "kernelspec": {
   "display_name": "Python 3",
   "language": "python",
   "name": "python3"
  },
  "language_info": {
   "codemirror_mode": {
    "name": "ipython",
    "version": 3
   },
   "file_extension": ".py",
   "mimetype": "text/x-python",
   "name": "python",
   "nbconvert_exporter": "python",
   "pygments_lexer": "ipython3",
   "version": "3.8.3"
  }
 },
 "nbformat": 4,
 "nbformat_minor": 4
}
